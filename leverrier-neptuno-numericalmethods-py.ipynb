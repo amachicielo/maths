{
 "cells": [
  {
   "cell_type": "markdown",
   "id": "82858174",
   "metadata": {
    "papermill": {
     "duration": 0.005507,
     "end_time": "2024-08-15T20:03:56.822470",
     "exception": false,
     "start_time": "2024-08-15T20:03:56.816963",
     "status": "completed"
    },
    "tags": []
   },
   "source": [
    "# Definition\n",
    "\n",
    "Various calculations performed on the follow matrix led, in **1847**, to the theoretical **discovery of the planet Neptune by Leverrier**. For this activity, a **variant of the original numerical technique** used by Leverrier for his calculations will be employed."
   ]
  },
  {
   "cell_type": "markdown",
   "id": "9d4c507e",
   "metadata": {
    "papermill": {
     "duration": 0.004697,
     "end_time": "2024-08-15T20:03:56.832280",
     "exception": false,
     "start_time": "2024-08-15T20:03:56.827583",
     "status": "completed"
    },
    "tags": []
   },
   "source": [
    "## We consider Matrix L given by:\n",
    "\n",
    "\n",
    "$$\n",
    "L = \\begin{pmatrix}\n",
    "2 & 35 & -36 & -180 \\\\\n",
    "1 & 0 & 0 & 0 \\\\\n",
    "0 & 1 & 0 & 0 \\\\\n",
    "0 & 0 & 1 & 0\n",
    "\\end{pmatrix}\n",
    "$$"
   ]
  },
  {
   "cell_type": "markdown",
   "id": "7e073e3e",
   "metadata": {
    "papermill": {
     "duration": 0.004575,
     "end_time": "2024-08-15T20:03:56.841922",
     "exception": false,
     "start_time": "2024-08-15T20:03:56.837347",
     "status": "completed"
    },
    "tags": []
   },
   "source": [
    "## 1. Part One of Leverrier's Algorithm. Sum of the powers of the eigenvalues of L"
   ]
  },
  {
   "cell_type": "markdown",
   "id": "21e57d15",
   "metadata": {
    "papermill": {
     "duration": 0.004582,
     "end_time": "2024-08-15T20:03:56.851482",
     "exception": false,
     "start_time": "2024-08-15T20:03:56.846900",
     "status": "completed"
    },
    "tags": []
   },
   "source": [
    "$$\n",
    "\\text{Let } \\lambda_1, \\lambda_2, \\lambda_3, \\lambda_4 \\text{ be the eigenvalues of } L, \\text{ verifying that } |\\lambda_1| < |\\lambda_2| < |\\lambda_3| < |\\lambda_4|. \\\\\n",
    "\\text{ Leverrier discovered the following formula: } \\\\\n",
    "S_n = \\lambda_1^{n} + \\lambda_2^{n} + \\lambda_3^{n} + \\lambda_4^{n} \\text{ for all } n \\geq 0. \\\\\n",
    "\\text{That is to say, } s_1 = \\lambda_1 + \\lambda_2 + \\lambda_3 + \\lambda_4 \n",
    "\\text{ is the sum of the eigenvalues of the matrix L,}\n",
    "\\newline\n",
    "s_2 = \\lambda_1^2 + \\lambda_2^2 + \\lambda_3^2 + \\lambda_4^2\n",
    "\\text{ , is the sum of squares of the eigenvalues of the matrix L and so on.}\n",
    "$$"
   ]
  },
  {
   "cell_type": "markdown",
   "id": "af6d334d",
   "metadata": {
    "papermill": {
     "duration": 0.004495,
     "end_time": "2024-08-15T20:03:56.860902",
     "exception": false,
     "start_time": "2024-08-15T20:03:56.856407",
     "status": "completed"
    },
    "tags": []
   },
   "source": [
    "$$\n",
    "\\text{Furthermore, Leverrier proved the following equality: }\n",
    "\\\\ s_n = \\text{Tr}(L^n) \n",
    "\\newline\n",
    "\\text{that is, they are the trace of } L^n \n",
    "\\text{ which is the n-th power of L,} \\\\ \\text{ knowing that the trace of a matrix is the sum of the elements of its diagonal.}\n",
    "$$"
   ]
  },
  {
   "cell_type": "markdown",
   "id": "8ea2ade1",
   "metadata": {
    "papermill": {
     "duration": 0.004457,
     "end_time": "2024-08-15T20:03:56.870096",
     "exception": false,
     "start_time": "2024-08-15T20:03:56.865639",
     "status": "completed"
    },
    "tags": []
   },
   "source": [
    "### We calculate s1, s2, s3, s4 using the previous equation:\n",
    "\n",
    "$$\n",
    "\\text{1. } s_1 = Tr(L) \\\\\n",
    "\\text{2. } s_2 = Tr(L^2) \\\\\n",
    "\\text{3. } s_3 = Tr(L^3) \\\\\n",
    "\\text{4. } s_4 = Tr(L^4)\n",
    "$$\n",
    "\n",
    "$$\n",
    "\\text{We will calculate the eigenvalues of the\n",
    "matrix L, and calculate  } s_n \\text{  verifying\n",
    "that the same values of  } s_n \n",
    "\\\\\n",
    "\\text{  are obtained as in the previous section.}\n",
    "\\\\\n",
    "$$"
   ]
  },
  {
   "cell_type": "code",
   "execution_count": 1,
   "id": "8d9e3710",
   "metadata": {
    "execution": {
     "iopub.execute_input": "2024-08-15T20:03:56.882021Z",
     "iopub.status.busy": "2024-08-15T20:03:56.881590Z",
     "iopub.status.idle": "2024-08-15T20:03:57.989173Z",
     "shell.execute_reply": "2024-08-15T20:03:57.987853Z"
    },
    "papermill": {
     "duration": 1.116864,
     "end_time": "2024-08-15T20:03:57.991907",
     "exception": false,
     "start_time": "2024-08-15T20:03:56.875043",
     "status": "completed"
    },
    "tags": []
   },
   "outputs": [],
   "source": [
    "import numpy as np\n",
    "import sympy\n",
    "from sympy import I, pi, oo\n",
    "import matplotlib.pyplot as plt\n",
    "import scipy.sparse as sp\n",
    "sympy.init_printing()"
   ]
  },
  {
   "cell_type": "code",
   "execution_count": 2,
   "id": "28da5d61",
   "metadata": {
    "execution": {
     "iopub.execute_input": "2024-08-15T20:03:58.004037Z",
     "iopub.status.busy": "2024-08-15T20:03:58.003541Z",
     "iopub.status.idle": "2024-08-15T20:03:58.014799Z",
     "shell.execute_reply": "2024-08-15T20:03:58.013643Z"
    },
    "papermill": {
     "duration": 0.020022,
     "end_time": "2024-08-15T20:03:58.017150",
     "exception": false,
     "start_time": "2024-08-15T20:03:57.997128",
     "status": "completed"
    },
    "tags": []
   },
   "outputs": [
    {
     "data": {
      "text/plain": [
       "array([[   2.,   35.,  -36., -180.],\n",
       "       [   1.,    0.,    0.,    0.],\n",
       "       [   0.,    1.,    0.,    0.],\n",
       "       [   0.,    0.,    1.,    0.]])"
      ]
     },
     "execution_count": 2,
     "metadata": {},
     "output_type": "execute_result"
    }
   ],
   "source": [
    "# Matrrix base\n",
    "L = np.array([\n",
    "    [2, 35, -36, -180],\n",
    "    [1, 0, 0, 0],\n",
    "    [0, 1, 0, 0],\n",
    "    [0, 0, 1, 0]\n",
    "], dtype=float)\n",
    "L"
   ]
  },
  {
   "cell_type": "code",
   "execution_count": 3,
   "id": "3392e22f",
   "metadata": {
    "execution": {
     "iopub.execute_input": "2024-08-15T20:03:58.029690Z",
     "iopub.status.busy": "2024-08-15T20:03:58.029296Z",
     "iopub.status.idle": "2024-08-15T20:03:58.040465Z",
     "shell.execute_reply": "2024-08-15T20:03:58.039226Z"
    },
    "papermill": {
     "duration": 0.019982,
     "end_time": "2024-08-15T20:03:58.042848",
     "exception": false,
     "start_time": "2024-08-15T20:03:58.022866",
     "status": "completed"
    },
    "tags": []
   },
   "outputs": [
    {
     "name": "stdout",
     "output_type": "stream",
     "text": [
      "2.0\n",
      "74.0\n",
      "110.0\n",
      "2018.0\n"
     ]
    }
   ],
   "source": [
    "# Calculate all sn\n",
    "\n",
    "# s1 = Tr(L)\n",
    "s1 = np.trace(L)\n",
    "print(s1)\n",
    "\n",
    "# s2 = Tr(L_exp2)\n",
    "s2 = np.trace(np.linalg.matrix_power(L, 2))\n",
    "print(s2)\n",
    "\n",
    "# s3 = Tr(L_exp3)\n",
    "s3 = np.trace(np.linalg.matrix_power(L, 3))\n",
    "print(s3)\n",
    "\n",
    "# s4 = Tr(L_exp4)\n",
    "s4 = np.trace(np.linalg.matrix_power(L, 4))\n",
    "print(s4)"
   ]
  },
  {
   "cell_type": "markdown",
   "id": "df2e2c89",
   "metadata": {
    "papermill": {
     "duration": 0.005256,
     "end_time": "2024-08-15T20:03:58.053547",
     "exception": false,
     "start_time": "2024-08-15T20:03:58.048291",
     "status": "completed"
    },
    "tags": []
   },
   "source": [
    "$$\n",
    "\\text{We check that the values } s_n \\text{ are correct by calculating the eigenvalues.}\n",
    "$$"
   ]
  },
  {
   "cell_type": "code",
   "execution_count": 4,
   "id": "d700cbc0",
   "metadata": {
    "execution": {
     "iopub.execute_input": "2024-08-15T20:03:58.066646Z",
     "iopub.status.busy": "2024-08-15T20:03:58.065809Z",
     "iopub.status.idle": "2024-08-15T20:03:58.083861Z",
     "shell.execute_reply": "2024-08-15T20:03:58.082601Z"
    },
    "papermill": {
     "duration": 0.027293,
     "end_time": "2024-08-15T20:03:58.086325",
     "exception": false,
     "start_time": "2024-08-15T20:03:58.059032",
     "status": "completed"
    },
    "tags": []
   },
   "outputs": [
    {
     "name": "stdout",
     "output_type": "stream",
     "text": [
      "[ 6. -5.  3. -2.]\n",
      "2.0000000000000044\n",
      "73.99999999999991\n",
      "110.00000000000027\n",
      "2017.9999999999955\n"
     ]
    }
   ],
   "source": [
    "lamda = np.linalg.eigvals(L)\n",
    "print(lamda)\n",
    "\n",
    "s1_1 = np.sum(lamda)\n",
    "print(s1_1)\n",
    "\n",
    "s2_1 = np.sum(lamda**2)\n",
    "print(s2_1)\n",
    "\n",
    "s3_1 = np.sum(lamda**3)\n",
    "print(s3_1)\n",
    "\n",
    "s4_1 = np.sum(lamda**4)\n",
    "print(s4_1)"
   ]
  },
  {
   "cell_type": "markdown",
   "id": "5bd00483",
   "metadata": {
    "papermill": {
     "duration": 0.005013,
     "end_time": "2024-08-15T20:03:58.096729",
     "exception": false,
     "start_time": "2024-08-15T20:03:58.091716",
     "status": "completed"
    },
    "tags": []
   },
   "source": [
    "## 2. Part two of Leverrier's Algorithm. Calculation of the coefficients of the characteristic polynomial.\n",
    "\n",
    "$$\n",
    "\\text{Leverrier showed that the coefficients of the characteristic polynomial of the matrix L could be calculated}\n",
    "\\newline\n",
    "\\text{ using the values  } s_i \\text{  calculated above. }\n",
    "$$"
   ]
  },
  {
   "cell_type": "markdown",
   "id": "ccd852ab",
   "metadata": {
    "papermill": {
     "duration": 0.005071,
     "end_time": "2024-08-15T20:03:58.107038",
     "exception": false,
     "start_time": "2024-08-15T20:03:58.101967",
     "status": "completed"
    },
    "tags": []
   },
   "source": [
    "$$\n",
    "\\text{The characteristic polynomial has the following form.} \n",
    "\\\\\n",
    "P(\\lambda)=\\lambda^{4} + c_1\\lambda^{3} + c_2\\lambda^{2} + c_3\\lambda + c_4\n",
    "\\\\\n",
    "c_1, c_2, c_3, c_4 \\text{ it can calculate using relations of Cardano-Vieta, like the next form:}\n",
    "\\\\\n",
    "-c_1 = \\lambda_1 + \\lambda_2 + \\lambda_3 + \\lambda_4\n",
    "\\\\\n",
    "c_2 = \\lambda_1 \\lambda_2 + \\lambda_1 \\lambda_3 + \\lambda_1 \\lambda_4 + \\lambda_2 \\lambda_3 + \\lambda_2 \\lambda_4 + \\lambda_3 \\lambda_4\n",
    "\\\\\n",
    "-c_3 = \\lambda_1 \\lambda_2 \\lambda_3 + \\lambda_1 \\lambda_2 \\lambda_4 + \\lambda_1 \\lambda_3 \\lambda_4 + \\lambda_2 \\lambda_3 \\lambda_4\n",
    "\\\\\n",
    "c_4 = \\lambda_1 \\lambda_2 \\lambda_3 \\lambda_4\n",
    "$$"
   ]
  },
  {
   "cell_type": "markdown",
   "id": "9c2a2bd8",
   "metadata": {
    "papermill": {
     "duration": 0.004982,
     "end_time": "2024-08-15T20:03:58.117508",
     "exception": false,
     "start_time": "2024-08-15T20:03:58.112526",
     "status": "completed"
    },
    "tags": []
   },
   "source": [
    "$$\n",
    "\\text{Starting from the Cardano-Vieta formulas, Leverrier established the following equalities:}\n",
    "\\\\\n",
    "c_1 = -s_1\n",
    "\\\\\n",
    "2c_2 = -s_2 - c_1s_1\n",
    "\\\\\n",
    "3c_3 = -s_3 - c_1s_2 - c_2s_1\n",
    "\\\\\n",
    "4c_4 = -s_4 - c_1s_3 - c_2s_2 - c_3s_1 \n",
    "$$"
   ]
  },
  {
   "cell_type": "markdown",
   "id": "e6efb80a",
   "metadata": {
    "papermill": {
     "duration": 0.004946,
     "end_time": "2024-08-15T20:03:58.127758",
     "exception": false,
     "start_time": "2024-08-15T20:03:58.122812",
     "status": "completed"
    },
    "tags": []
   },
   "source": [
    "$$\n",
    "\\text{We will show the next equation:}\n",
    "\\\\\n",
    "2c_2 = -s_2 - c_1s_1 = -(\\lambda_1^2 + \\lambda_2^2 + \\lambda_3^2 + \\lambda_4^2) + (\\lambda_1 + \\lambda_2 + \\lambda_3 + \\lambda_4)^2 \\\\\n",
    "= -(\\lambda_1^2 + \\lambda_2^2 + \\lambda_3^2 + \\lambda_4^2) + (\\lambda_1^2 + \\lambda_2^2 + \\lambda_3^2 + \\lambda_4^2 + 2\\lambda_1\\lambda_2 + 2\\lambda_1\\lambda_3 + 2\\lambda_1\\lambda_4 + 2\\lambda_2\\lambda_3 + 2\\lambda_2\\lambda_4 + 2\\lambda_3\\lambda_4) \\\\\n",
    "= 2\\lambda_1\\lambda_2 + 2\\lambda_1\\lambda_3 + 2\\lambda_1\\lambda_4 + 2\\lambda_2\\lambda_3 + 2\\lambda_2\\lambda_4 + 2\\lambda_3\\lambda_4\n",
    "$$"
   ]
  },
  {
   "cell_type": "markdown",
   "id": "cb273761",
   "metadata": {
    "papermill": {
     "duration": 0.004959,
     "end_time": "2024-08-15T20:03:58.138730",
     "exception": false,
     "start_time": "2024-08-15T20:03:58.133771",
     "status": "completed"
    },
    "tags": []
   },
   "source": [
    "### We will calculate c1, c2, c3, c4 and characteristic polynomial of L"
   ]
  },
  {
   "cell_type": "code",
   "execution_count": 5,
   "id": "df4a3557",
   "metadata": {
    "execution": {
     "iopub.execute_input": "2024-08-15T20:03:58.151752Z",
     "iopub.status.busy": "2024-08-15T20:03:58.150456Z",
     "iopub.status.idle": "2024-08-15T20:03:58.158016Z",
     "shell.execute_reply": "2024-08-15T20:03:58.156876Z"
    },
    "papermill": {
     "duration": 0.016671,
     "end_time": "2024-08-15T20:03:58.160639",
     "exception": false,
     "start_time": "2024-08-15T20:03:58.143968",
     "status": "completed"
    },
    "tags": []
   },
   "outputs": [
    {
     "name": "stdout",
     "output_type": "stream",
     "text": [
      "c1 =  -2.0\n",
      "c2 =  -35.0\n",
      "c3 =  36.0\n",
      "c4 =  180.0\n"
     ]
    }
   ],
   "source": [
    "c1 = -s1\n",
    "print(\"c1 = \",c1)\n",
    "\n",
    "c2 = (1/2)*(-s2 - c1*s1)\n",
    "print(\"c2 = \",c2)\n",
    "\n",
    "c3 = (1/3)*(-s3 - c1*s2 - c2*s1)\n",
    "print(\"c3 = \",c3)\n",
    "\n",
    "c4 = (1/4)*(-s4 - c1*s3 - c2*s2 - c3*s1)\n",
    "print(\"c4 = \",c4)"
   ]
  },
  {
   "cell_type": "markdown",
   "id": "ee5f2747",
   "metadata": {
    "papermill": {
     "duration": 0.005636,
     "end_time": "2024-08-15T20:03:58.171864",
     "exception": false,
     "start_time": "2024-08-15T20:03:58.166228",
     "status": "completed"
    },
    "tags": []
   },
   "source": [
    "$$\n",
    "c_1 = -s_1 = -2\n",
    "\\\\\n",
    "c_2 = \\frac{1}{2}(-s_2-c_1s_1) = -35\n",
    "\\\\\n",
    "c_3 = \\frac{1}{3}(-s_3-c_1s_2-c_2s_1) = 36\n",
    "\\\\\n",
    "c_4 = \\frac{1}{4}(-s_4-c_1s_3-c_2s_2-c_3s_1) = 180\n",
    "$$"
   ]
  },
  {
   "cell_type": "markdown",
   "id": "9fbff44f",
   "metadata": {
    "papermill": {
     "duration": 0.005116,
     "end_time": "2024-08-15T20:03:58.183032",
     "exception": false,
     "start_time": "2024-08-15T20:03:58.177916",
     "status": "completed"
    },
    "tags": []
   },
   "source": [
    "Characteristic polynomial is:\n",
    "\n",
    "$$\n",
    "P(\\lambda)=\\lambda^{4} - 2\\lambda^{3} - 35\\lambda^{2} + 36\\lambda + 180\n",
    "$$"
   ]
  },
  {
   "cell_type": "markdown",
   "id": "4fcfe38f",
   "metadata": {
    "papermill": {
     "duration": 0.005106,
     "end_time": "2024-08-15T20:03:58.193958",
     "exception": false,
     "start_time": "2024-08-15T20:03:58.188852",
     "status": "completed"
    },
    "tags": []
   },
   "source": [
    "\n",
    "\n",
    "\n",
    "\n"
   ]
  },
  {
   "cell_type": "markdown",
   "id": "427620f4",
   "metadata": {
    "papermill": {
     "duration": 0.005068,
     "end_time": "2024-08-15T20:03:58.204646",
     "exception": false,
     "start_time": "2024-08-15T20:03:58.199578",
     "status": "completed"
    },
    "tags": []
   },
   "source": [
    "### Company matrix of the characteristic polynomial.\n",
    "\n",
    "\n",
    "$$\n",
    "\\text{Polynomial of the form} \n",
    "\\\\\n",
    "q(\\lambda) = \\lambda^n - a_1\\lambda^{n-1} - a_2\\lambda^{n-2} - \\dots - a_{n-1}\\lambda - a_n\n",
    "\\\\\n",
    "\\text{is a characteristic polynomial of its company matrix.}\n",
    "\\\\\n",
    "\\text{Considering the characteristic polynomial obtained in the previous section, and the matrix of the statement, } \n",
    "\\\\\n",
    "\\text{considered its company matrix. We will write in a generic way the company matrix associated with the characteristic polynomial q(λ).}\n",
    "$$"
   ]
  },
  {
   "cell_type": "markdown",
   "id": "44064a33",
   "metadata": {
    "papermill": {
     "duration": 0.005101,
     "end_time": "2024-08-15T20:03:58.215020",
     "exception": false,
     "start_time": "2024-08-15T20:03:58.209919",
     "status": "completed"
    },
    "tags": []
   },
   "source": [
    "#### original matrix\n",
    "$$\n",
    "L = \\begin{pmatrix}\n",
    "2 & 35 & -36 & -180 \\\\\n",
    "1 & 0 & 0 & 0 \\\\\n",
    "0 & 1 & 0 & 0 \\\\\n",
    "0 & 0 & 1 & 0\n",
    "\\end{pmatrix}\n",
    "$$"
   ]
  },
  {
   "cell_type": "markdown",
   "id": "a139d6b4",
   "metadata": {
    "papermill": {
     "duration": 0.005136,
     "end_time": "2024-08-15T20:03:58.225494",
     "exception": false,
     "start_time": "2024-08-15T20:03:58.220358",
     "status": "completed"
    },
    "tags": []
   },
   "source": [
    "The elements of the first row of the matrix are given by the coefficients of the polynomial with the sign changed. The diagonal below the main diagonal, are equal to one. And the last value of the characteristic polynomial keep its sign.\n",
    "\n",
    "\n",
    "$$\n",
    "A = \n",
    "\\begin{pmatrix}\n",
    "-a_1 & -a_2 & \\cdots & -a_{n-1} & a_n \\\\\n",
    "1 & 0 & \\cdots & 0 & 0 \\\\\n",
    "0 & 1 & \\cdots & 0 & 0 \\\\\n",
    "\\vdots & \\vdots & \\ddots & \\vdots & \\vdots \\\\\n",
    "0 & 0 & \\cdots & 1 & 0\n",
    "\\end{pmatrix}\n",
    "$$"
   ]
  },
  {
   "cell_type": "markdown",
   "id": "a462cf64",
   "metadata": {
    "papermill": {
     "duration": 0.005018,
     "end_time": "2024-08-15T20:03:58.235839",
     "exception": false,
     "start_time": "2024-08-15T20:03:58.230821",
     "status": "completed"
    },
    "tags": []
   },
   "source": [
    "$$\n",
    "\\text{in our case:}\n",
    "\\\\\n",
    "C = \n",
    "\\begin{pmatrix}2 & 35 & -36 & 180 \\\\\n",
    "1 & 0  & 0 & 0 \\\\\n",
    "0 & 1  & 0 & 0 \\\\\n",
    "0 & 0  & 1 & 0\n",
    "\\end{pmatrix}\n",
    "$$"
   ]
  }
 ],
 "metadata": {
  "kaggle": {
   "accelerator": "none",
   "dataSources": [],
   "dockerImageVersionId": 30746,
   "isGpuEnabled": false,
   "isInternetEnabled": true,
   "language": "python",
   "sourceType": "notebook"
  },
  "kernelspec": {
   "display_name": "Python 3",
   "language": "python",
   "name": "python3"
  },
  "language_info": {
   "codemirror_mode": {
    "name": "ipython",
    "version": 3
   },
   "file_extension": ".py",
   "mimetype": "text/x-python",
   "name": "python",
   "nbconvert_exporter": "python",
   "pygments_lexer": "ipython3",
   "version": "3.10.13"
  },
  "papermill": {
   "default_parameters": {},
   "duration": 4.760734,
   "end_time": "2024-08-15T20:03:58.762484",
   "environment_variables": {},
   "exception": null,
   "input_path": "__notebook__.ipynb",
   "output_path": "__notebook__.ipynb",
   "parameters": {},
   "start_time": "2024-08-15T20:03:54.001750",
   "version": "2.5.0"
  }
 },
 "nbformat": 4,
 "nbformat_minor": 5
}
